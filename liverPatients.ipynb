{
 "cells": [
  {
   "cell_type": "code",
   "execution_count": 1,
   "id": "355f3242",
   "metadata": {},
   "outputs": [
    {
     "name": "stdout",
     "output_type": "stream",
     "text": [
      "Collecting cloudpickle\n",
      "  Downloading cloudpickle-3.1.1-py3-none-any.whl.metadata (7.1 kB)\n",
      "Downloading cloudpickle-3.1.1-py3-none-any.whl (20 kB)\n",
      "Installing collected packages: cloudpickle\n",
      "Successfully installed cloudpickle-3.1.1\n"
     ]
    }
   ],
   "source": [
    "!pip install cloudpickle"
   ]
  },
  {
   "cell_type": "code",
   "execution_count": 2,
   "id": "b27bb45b",
   "metadata": {},
   "outputs": [
    {
     "name": "stdout",
     "output_type": "stream",
     "text": [
      "\n",
      "🔍 Running GridSearchCV... (this may take a while)\n",
      "Fitting 5 folds for each of 162 candidates, totalling 810 fits\n"
     ]
    },
    {
     "name": "stderr",
     "output_type": "stream",
     "text": [
      "c:\\MultipleDiseasePrediction\\env\\Lib\\site-packages\\xgboost\\training.py:183: UserWarning: [22:48:19] WARNING: C:\\actions-runner\\_work\\xgboost\\xgboost\\src\\learner.cc:738: \n",
      "Parameters: { \"use_label_encoder\" } are not used.\n",
      "\n",
      "  bst.update(dtrain, iteration=i, fobj=obj)\n"
     ]
    },
    {
     "name": "stdout",
     "output_type": "stream",
     "text": [
      "\n",
      "✅ Best Parameters Found: {'xgb__colsample_bytree': 0.9, 'xgb__learning_rate': 0.1, 'xgb__max_depth': 3, 'xgb__n_estimators': 600, 'xgb__scale_pos_weight': np.float64(0.3993993993993994), 'xgb__subsample': 1}\n",
      "✅ Best CV Accuracy: 0.6952871196522536\n",
      "\n",
      "--- Test Set Performance ---\n",
      "Classification Report:\n",
      "               precision    recall  f1-score   support\n",
      "\n",
      "           0       0.62      0.68      0.65        34\n",
      "           1       0.86      0.83      0.85        83\n",
      "\n",
      "    accuracy                           0.79       117\n",
      "   macro avg       0.74      0.75      0.75       117\n",
      "weighted avg       0.79      0.79      0.79       117\n",
      "\n",
      "Accuracy: 0.7863247863247863\n",
      "ROC-AUC: 0.7905740609496812\n",
      "\n",
      "--- Training Set Performance ---\n",
      "Training Accuracy: 0.9978540772532188\n",
      "Training ROC-AUC: 1.0\n",
      "\n",
      "💾 Best pipeline saved as 'liver_disease_pipeline.pkl'\n"
     ]
    }
   ],
   "source": [
    "import pandas as pd\n",
    "from sklearn.model_selection import train_test_split, GridSearchCV\n",
    "from sklearn.preprocessing import StandardScaler, FunctionTransformer\n",
    "from sklearn.compose import ColumnTransformer\n",
    "from sklearn.metrics import classification_report, accuracy_score, roc_auc_score\n",
    "from imblearn.over_sampling import SMOTE\n",
    "from imblearn.pipeline import Pipeline as ImbPipeline\n",
    "from xgboost import XGBClassifier\n",
    "import cloudpickle\n",
    "\n",
    "# -----------------------\n",
    "# 1. Load Data\n",
    "# -----------------------\n",
    "df = pd.read_csv(\"C:/MultipleDiseasePrediction/env/Scripts/indian_liver_patient.csv\")\n",
    "\n",
    "# Fix missing values\n",
    "df['Albumin_and_Globulin_Ratio'] = df['Albumin_and_Globulin_Ratio'].fillna(\n",
    "    df['Albumin_and_Globulin_Ratio'].median()\n",
    ")\n",
    "\n",
    "# Encode Gender (Male=1, Female=0)\n",
    "df['Gender'] = df['Gender'].map({'Male': 1, 'Female': 0})\n",
    "\n",
    "# Target variable: Dataset (1 = disease, 0 = no disease)\n",
    "y = df['Dataset'].map({1: 1, 2: 0})\n",
    "\n",
    "# Features\n",
    "X = df.drop(columns=['Dataset'])\n",
    "\n",
    "# -----------------------\n",
    "# 2. Feature Engineering (custom transformer)\n",
    "# -----------------------\n",
    "def add_custom_features(X_df):\n",
    "    X_new = X_df.copy()\n",
    "    X_new['Bilirubin_Ratio'] = X_new['Direct_Bilirubin'] / (X_new['Total_Bilirubin'] + 1e-6)\n",
    "    X_new['Albumin_Protein_Ratio'] = X_new['Albumin'] / (X_new['Total_Protiens'] + 1e-6)\n",
    "    return X_new\n",
    "\n",
    "feature_engineer = FunctionTransformer(add_custom_features)\n",
    "\n",
    "# -----------------------\n",
    "# 3. Define Preprocessor\n",
    "# -----------------------\n",
    "num_features = X.columns.tolist() + [\"Bilirubin_Ratio\", \"Albumin_Protein_Ratio\"]\n",
    "\n",
    "preprocessor = ColumnTransformer(transformers=[\n",
    "    ('num', StandardScaler(), num_features)\n",
    "])\n",
    "\n",
    "# -----------------------\n",
    "# 4. Base Pipeline (with XGB)\n",
    "# -----------------------\n",
    "pipeline = ImbPipeline(steps=[\n",
    "    ('feature_engineer', feature_engineer),\n",
    "    ('preprocessor', preprocessor),\n",
    "    ('smote', SMOTE(random_state=42)),\n",
    "    ('xgb', XGBClassifier(\n",
    "        eval_metric=\"logloss\",\n",
    "        use_label_encoder=False,\n",
    "        random_state=42\n",
    "    ))\n",
    "])\n",
    "\n",
    "# -----------------------\n",
    "# 5. Train-Test Split\n",
    "# -----------------------\n",
    "X_train, X_test, y_train, y_test = train_test_split(\n",
    "    X, y, test_size=0.2, stratify=y, random_state=42\n",
    ")\n",
    "\n",
    "# Compute scale_pos_weight (class imbalance)\n",
    "scale_pos_weight = (y_train.value_counts()[0] / y_train.value_counts()[1])\n",
    "\n",
    "# -----------------------\n",
    "# 6. Hyperparameter Tuning\n",
    "# -----------------------\n",
    "param_grid = {\n",
    "    \"xgb__n_estimators\": [200, 400, 600],\n",
    "    \"xgb__max_depth\": [3, 5, 7],\n",
    "    \"xgb__learning_rate\": [0.01, 0.05, 0.1],\n",
    "    \"xgb__subsample\": [0.8, 1],\n",
    "    \"xgb__colsample_bytree\": [0.7, 0.9, 1],\n",
    "    \"xgb__scale_pos_weight\": [scale_pos_weight]\n",
    "}\n",
    "\n",
    "grid = GridSearchCV(\n",
    "    pipeline,\n",
    "    param_grid,\n",
    "    scoring=\"accuracy\",\n",
    "    cv=5,\n",
    "    n_jobs=-1,\n",
    "    verbose=2\n",
    ")\n",
    "\n",
    "print(\"\\n🔍 Running GridSearchCV... (this may take a while)\")\n",
    "grid.fit(X_train, y_train)\n",
    "\n",
    "print(\"\\n✅ Best Parameters Found:\", grid.best_params_)\n",
    "print(\"✅ Best CV Accuracy:\", grid.best_score_)\n",
    "\n",
    "# -----------------------\n",
    "# 7. Evaluate Model\n",
    "# -----------------------\n",
    "best_model = grid.best_estimator_\n",
    "\n",
    "# Test set evaluation\n",
    "y_pred = best_model.predict(X_test)\n",
    "y_prob = best_model.predict_proba(X_test)[:, 1]\n",
    "\n",
    "print(\"\\n--- Test Set Performance ---\")\n",
    "print(\"Classification Report:\\n\", classification_report(y_test, y_pred))\n",
    "print(\"Accuracy:\", accuracy_score(y_test, y_pred))\n",
    "print(\"ROC-AUC:\", roc_auc_score(y_test, y_prob))\n",
    "\n",
    "# Train set evaluation\n",
    "y_train_pred = best_model.predict(X_train)\n",
    "y_train_prob = best_model.predict_proba(X_train)[:, 1]\n",
    "\n",
    "print(\"\\n--- Training Set Performance ---\")\n",
    "print(\"Training Accuracy:\", accuracy_score(y_train, y_train_pred))\n",
    "print(\"Training ROC-AUC:\", roc_auc_score(y_train, y_train_prob))\n",
    "\n",
    "# -----------------------\n",
    "# 8. Save Best Model\n",
    "# -----------------------\n",
    "with open(\"liver_disease_pipeline.pkl\", \"wb\") as f:\n",
    "    cloudpickle.dump(best_model, f)\n",
    "\n",
    "print(\"\\n💾 Best pipeline saved as 'liver_disease_pipeline.pkl'\")\n"
   ]
  },
  {
   "cell_type": "code",
   "execution_count": 9,
   "id": "8d7331e3",
   "metadata": {},
   "outputs": [
    {
     "name": "stdout",
     "output_type": "stream",
     "text": [
      "RMSE: 0.43999513897052955\n"
     ]
    }
   ],
   "source": [
    "# RMSE\n",
    "from sklearn.metrics import mean_squared_error\n",
    "import numpy as np\n",
    "rmse = np.sqrt(mean_squared_error(y_test, y_prob))\n",
    "print(\"RMSE:\", rmse)"
   ]
  }
 ],
 "metadata": {
  "kernelspec": {
   "display_name": "env (3.13.7)",
   "language": "python",
   "name": "python3"
  },
  "language_info": {
   "codemirror_mode": {
    "name": "ipython",
    "version": 3
   },
   "file_extension": ".py",
   "mimetype": "text/x-python",
   "name": "python",
   "nbconvert_exporter": "python",
   "pygments_lexer": "ipython3",
   "version": "3.13.7"
  }
 },
 "nbformat": 4,
 "nbformat_minor": 5
}
